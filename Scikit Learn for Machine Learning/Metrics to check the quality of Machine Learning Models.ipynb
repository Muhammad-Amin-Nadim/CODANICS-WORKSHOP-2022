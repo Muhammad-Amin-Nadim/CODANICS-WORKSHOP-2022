{
 "cells": [
  {
   "cell_type": "code",
   "execution_count": 10,
   "metadata": {},
   "outputs": [],
   "source": [
    "import numpy as np\n",
    "import pandas as pd\n",
    "import matplotlib.pyplot as plt\n",
    "from sklearn.linear_model import LogisticRegression\n",
    "import seaborn as sns"
   ]
  },
  {
   "cell_type": "code",
   "execution_count": 11,
   "metadata": {},
   "outputs": [
    {
     "data": {
      "text/html": [
       "<div>\n",
       "<style scoped>\n",
       "    .dataframe tbody tr th:only-of-type {\n",
       "        vertical-align: middle;\n",
       "    }\n",
       "\n",
       "    .dataframe tbody tr th {\n",
       "        vertical-align: top;\n",
       "    }\n",
       "\n",
       "    .dataframe thead th {\n",
       "        text-align: right;\n",
       "    }\n",
       "</style>\n",
       "<table border=\"1\" class=\"dataframe\">\n",
       "  <thead>\n",
       "    <tr style=\"text-align: right;\">\n",
       "      <th></th>\n",
       "      <th>Time</th>\n",
       "      <th>V1</th>\n",
       "      <th>V2</th>\n",
       "      <th>V3</th>\n",
       "      <th>V4</th>\n",
       "      <th>V5</th>\n",
       "      <th>V6</th>\n",
       "      <th>V7</th>\n",
       "      <th>V8</th>\n",
       "      <th>V9</th>\n",
       "      <th>...</th>\n",
       "      <th>V21</th>\n",
       "      <th>V22</th>\n",
       "      <th>V23</th>\n",
       "      <th>V24</th>\n",
       "      <th>V25</th>\n",
       "      <th>V26</th>\n",
       "      <th>V27</th>\n",
       "      <th>V28</th>\n",
       "      <th>Amount</th>\n",
       "      <th>Class</th>\n",
       "    </tr>\n",
       "  </thead>\n",
       "  <tbody>\n",
       "    <tr>\n",
       "      <th>17489</th>\n",
       "      <td>28764.0</td>\n",
       "      <td>-0.683952</td>\n",
       "      <td>1.117557</td>\n",
       "      <td>1.676694</td>\n",
       "      <td>-0.048087</td>\n",
       "      <td>0.036061</td>\n",
       "      <td>-0.607056</td>\n",
       "      <td>0.691947</td>\n",
       "      <td>-0.021314</td>\n",
       "      <td>-0.456469</td>\n",
       "      <td>...</td>\n",
       "      <td>-0.132559</td>\n",
       "      <td>-0.305844</td>\n",
       "      <td>0.051096</td>\n",
       "      <td>0.397060</td>\n",
       "      <td>-0.479562</td>\n",
       "      <td>0.041234</td>\n",
       "      <td>0.212373</td>\n",
       "      <td>0.190189</td>\n",
       "      <td>4.99</td>\n",
       "      <td>0</td>\n",
       "    </tr>\n",
       "    <tr>\n",
       "      <th>192640</th>\n",
       "      <td>129790.0</td>\n",
       "      <td>2.015453</td>\n",
       "      <td>0.135506</td>\n",
       "      <td>-1.725321</td>\n",
       "      <td>0.544265</td>\n",
       "      <td>0.149537</td>\n",
       "      <td>-1.440655</td>\n",
       "      <td>0.267127</td>\n",
       "      <td>-0.362052</td>\n",
       "      <td>0.621939</td>\n",
       "      <td>...</td>\n",
       "      <td>0.209142</td>\n",
       "      <td>0.737578</td>\n",
       "      <td>-0.025943</td>\n",
       "      <td>-0.082276</td>\n",
       "      <td>0.224312</td>\n",
       "      <td>-0.099383</td>\n",
       "      <td>-0.003873</td>\n",
       "      <td>-0.029206</td>\n",
       "      <td>20.43</td>\n",
       "      <td>0</td>\n",
       "    </tr>\n",
       "    <tr>\n",
       "      <th>227716</th>\n",
       "      <td>145190.0</td>\n",
       "      <td>-1.547679</td>\n",
       "      <td>0.430305</td>\n",
       "      <td>-0.881125</td>\n",
       "      <td>-0.249498</td>\n",
       "      <td>0.178981</td>\n",
       "      <td>-0.754526</td>\n",
       "      <td>0.027212</td>\n",
       "      <td>0.816041</td>\n",
       "      <td>-0.274249</td>\n",
       "      <td>...</td>\n",
       "      <td>0.558447</td>\n",
       "      <td>1.321787</td>\n",
       "      <td>-0.297970</td>\n",
       "      <td>-0.421738</td>\n",
       "      <td>-0.313699</td>\n",
       "      <td>-0.060792</td>\n",
       "      <td>0.105492</td>\n",
       "      <td>-0.010812</td>\n",
       "      <td>45.06</td>\n",
       "      <td>0</td>\n",
       "    </tr>\n",
       "    <tr>\n",
       "      <th>170701</th>\n",
       "      <td>120314.0</td>\n",
       "      <td>2.116292</td>\n",
       "      <td>-0.992754</td>\n",
       "      <td>-1.760227</td>\n",
       "      <td>-1.178029</td>\n",
       "      <td>-0.143502</td>\n",
       "      <td>-0.434914</td>\n",
       "      <td>-0.372570</td>\n",
       "      <td>-0.230775</td>\n",
       "      <td>-0.714319</td>\n",
       "      <td>...</td>\n",
       "      <td>0.473543</td>\n",
       "      <td>1.208301</td>\n",
       "      <td>-0.224787</td>\n",
       "      <td>-1.026894</td>\n",
       "      <td>0.283471</td>\n",
       "      <td>0.114641</td>\n",
       "      <td>-0.053209</td>\n",
       "      <td>-0.072663</td>\n",
       "      <td>85.75</td>\n",
       "      <td>0</td>\n",
       "    </tr>\n",
       "    <tr>\n",
       "      <th>35771</th>\n",
       "      <td>38255.0</td>\n",
       "      <td>1.513682</td>\n",
       "      <td>-1.202659</td>\n",
       "      <td>0.481476</td>\n",
       "      <td>-1.616405</td>\n",
       "      <td>-1.454961</td>\n",
       "      <td>-0.032725</td>\n",
       "      <td>-1.425962</td>\n",
       "      <td>0.101922</td>\n",
       "      <td>-1.680858</td>\n",
       "      <td>...</td>\n",
       "      <td>-0.072219</td>\n",
       "      <td>0.138369</td>\n",
       "      <td>-0.105836</td>\n",
       "      <td>-0.526318</td>\n",
       "      <td>0.394259</td>\n",
       "      <td>-0.066669</td>\n",
       "      <td>0.042027</td>\n",
       "      <td>0.006963</td>\n",
       "      <td>12.00</td>\n",
       "      <td>0</td>\n",
       "    </tr>\n",
       "  </tbody>\n",
       "</table>\n",
       "<p>5 rows × 31 columns</p>\n",
       "</div>"
      ],
      "text/plain": [
       "            Time        V1        V2        V3        V4        V5        V6  \\\n",
       "17489    28764.0 -0.683952  1.117557  1.676694 -0.048087  0.036061 -0.607056   \n",
       "192640  129790.0  2.015453  0.135506 -1.725321  0.544265  0.149537 -1.440655   \n",
       "227716  145190.0 -1.547679  0.430305 -0.881125 -0.249498  0.178981 -0.754526   \n",
       "170701  120314.0  2.116292 -0.992754 -1.760227 -1.178029 -0.143502 -0.434914   \n",
       "35771    38255.0  1.513682 -1.202659  0.481476 -1.616405 -1.454961 -0.032725   \n",
       "\n",
       "              V7        V8        V9  ...       V21       V22       V23  \\\n",
       "17489   0.691947 -0.021314 -0.456469  ... -0.132559 -0.305844  0.051096   \n",
       "192640  0.267127 -0.362052  0.621939  ...  0.209142  0.737578 -0.025943   \n",
       "227716  0.027212  0.816041 -0.274249  ...  0.558447  1.321787 -0.297970   \n",
       "170701 -0.372570 -0.230775 -0.714319  ...  0.473543  1.208301 -0.224787   \n",
       "35771  -1.425962  0.101922 -1.680858  ... -0.072219  0.138369 -0.105836   \n",
       "\n",
       "             V24       V25       V26       V27       V28  Amount  Class  \n",
       "17489   0.397060 -0.479562  0.041234  0.212373  0.190189    4.99      0  \n",
       "192640 -0.082276  0.224312 -0.099383 -0.003873 -0.029206   20.43      0  \n",
       "227716 -0.421738 -0.313699 -0.060792  0.105492 -0.010812   45.06      0  \n",
       "170701 -1.026894  0.283471  0.114641 -0.053209 -0.072663   85.75      0  \n",
       "35771  -0.526318  0.394259 -0.066669  0.042027  0.006963   12.00      0  \n",
       "\n",
       "[5 rows x 31 columns]"
      ]
     },
     "execution_count": 11,
     "metadata": {},
     "output_type": "execute_result"
    }
   ],
   "source": [
    "df=pd.read_csv('creditcard.csv')\n",
    "df.sample(5)"
   ]
  },
  {
   "cell_type": "code",
   "execution_count": 12,
   "metadata": {},
   "outputs": [
    {
     "data": {
      "text/plain": [
       "(284807, 31)"
      ]
     },
     "execution_count": 12,
     "metadata": {},
     "output_type": "execute_result"
    }
   ],
   "source": [
    "df.shape"
   ]
  },
  {
   "cell_type": "code",
   "execution_count": 13,
   "metadata": {},
   "outputs": [],
   "source": [
    "X=df.drop(columns=['Class','Time','Amount'])"
   ]
  },
  {
   "cell_type": "code",
   "execution_count": 14,
   "metadata": {},
   "outputs": [],
   "source": [
    "y=df.iloc[:,-1:]"
   ]
  },
  {
   "cell_type": "code",
   "execution_count": 15,
   "metadata": {},
   "outputs": [
    {
     "data": {
      "text/plain": [
       "0    284315\n",
       "1       492\n",
       "Name: Class, dtype: int64"
      ]
     },
     "execution_count": 15,
     "metadata": {},
     "output_type": "execute_result"
    }
   ],
   "source": [
    "df['Class'].value_counts()"
   ]
  },
  {
   "cell_type": "code",
   "execution_count": 16,
   "metadata": {},
   "outputs": [
    {
     "data": {
      "text/plain": [
       "Class    492\n",
       "dtype: int64"
      ]
     },
     "execution_count": 16,
     "metadata": {},
     "output_type": "execute_result"
    }
   ],
   "source": [
    "y.sum()"
   ]
  },
  {
   "cell_type": "code",
   "execution_count": 17,
   "metadata": {},
   "outputs": [],
   "source": [
    "lr=LogisticRegression()"
   ]
  },
  {
   "cell_type": "code",
   "execution_count": 18,
   "metadata": {},
   "outputs": [
    {
     "name": "stderr",
     "output_type": "stream",
     "text": [
      "C:\\Users\\ADMIN\\AppData\\Local\\Packages\\PythonSoftwareFoundation.Python.3.10_qbz5n2kfra8p0\\LocalCache\\local-packages\\Python310\\site-packages\\sklearn\\utils\\validation.py:1111: DataConversionWarning: A column-vector y was passed when a 1d array was expected. Please change the shape of y to (n_samples, ), for example using ravel().\n",
      "  y = column_or_1d(y, warn=True)\n"
     ]
    }
   ],
   "source": [
    "lr.fit(X,y)"
   ]
  },
  {
   "cell_type": "code",
   "execution_count": null,
   "metadata": {},
   "outputs": [],
   "source": []
  }
 ],
 "metadata": {
  "kernelspec": {
   "display_name": "Python 3 (ipykernel)",
   "language": "python",
   "name": "python3"
  },
  "language_info": {
   "codemirror_mode": {
    "name": "ipython",
    "version": 3
   },
   "file_extension": ".py",
   "mimetype": "text/x-python",
   "name": "python",
   "nbconvert_exporter": "python",
   "pygments_lexer": "ipython3",
   "version": "3.9.13"
  },
  "vscode": {
   "interpreter": {
    "hash": "e3a928b85d63b2ef9b6ccf12e8d329d0cbc7130b7b94533fcc116c9895f7d050"
   }
  }
 },
 "nbformat": 4,
 "nbformat_minor": 2
}
