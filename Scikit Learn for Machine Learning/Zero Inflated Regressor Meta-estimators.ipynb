{
 "cells": [
  {
   "cell_type": "code",
   "execution_count": 6,
   "metadata": {},
   "outputs": [],
   "source": [
    "import numpy as np\n",
    "import pandas as pd\n",
    "from sklearn.linear_model import LogisticRegression, Ridge\n",
    "from sklearn.model_selection import cross_val_score\n",
    "from sklego.meta import ZeroInflatedRegressor\n",
    "\n",
    "# Note the final line of code in this block. We're setting y=0 for all weekend dates\n",
    "# while we simulate standard regression data for all the other dates.\n",
    "df = (pd.DataFrame({'dt': pd.date_range(\"2018-01-01\", \"2021-01-01\")})\n",
    "      .assign(x=lambda d: np.random.normal(0, 1, d.shape[0]))\n",
    "      .assign(weekend = lambda d: (d['dt'].dt.weekday >= 5).astype(np.int16))\n",
    "      .assign(y=lambda d: np.where(d['weekend'], 0, 1.5 + 0.87 * d['x'] + np.random.normal(0, 0.2, d.shape[0]))))"
   ]
  },
  {
   "cell_type": "code",
   "execution_count": 9,
   "metadata": {},
   "outputs": [
    {
     "data": {
      "text/html": [
       "<div>\n",
       "<style scoped>\n",
       "    .dataframe tbody tr th:only-of-type {\n",
       "        vertical-align: middle;\n",
       "    }\n",
       "\n",
       "    .dataframe tbody tr th {\n",
       "        vertical-align: top;\n",
       "    }\n",
       "\n",
       "    .dataframe thead th {\n",
       "        text-align: right;\n",
       "    }\n",
       "</style>\n",
       "<table border=\"1\" class=\"dataframe\">\n",
       "  <thead>\n",
       "    <tr style=\"text-align: right;\">\n",
       "      <th></th>\n",
       "      <th>dt</th>\n",
       "      <th>x</th>\n",
       "      <th>weekend</th>\n",
       "      <th>y</th>\n",
       "    </tr>\n",
       "  </thead>\n",
       "  <tbody>\n",
       "    <tr>\n",
       "      <th>1092</th>\n",
       "      <td>2020-12-28</td>\n",
       "      <td>-0.216630</td>\n",
       "      <td>0</td>\n",
       "      <td>1.582935</td>\n",
       "    </tr>\n",
       "    <tr>\n",
       "      <th>1093</th>\n",
       "      <td>2020-12-29</td>\n",
       "      <td>1.600085</td>\n",
       "      <td>0</td>\n",
       "      <td>2.573219</td>\n",
       "    </tr>\n",
       "    <tr>\n",
       "      <th>1094</th>\n",
       "      <td>2020-12-30</td>\n",
       "      <td>0.775335</td>\n",
       "      <td>0</td>\n",
       "      <td>2.240295</td>\n",
       "    </tr>\n",
       "    <tr>\n",
       "      <th>1095</th>\n",
       "      <td>2020-12-31</td>\n",
       "      <td>-0.536147</td>\n",
       "      <td>0</td>\n",
       "      <td>0.838110</td>\n",
       "    </tr>\n",
       "    <tr>\n",
       "      <th>1096</th>\n",
       "      <td>2021-01-01</td>\n",
       "      <td>-0.681098</td>\n",
       "      <td>0</td>\n",
       "      <td>0.839873</td>\n",
       "    </tr>\n",
       "  </tbody>\n",
       "</table>\n",
       "</div>"
      ],
      "text/plain": [
       "             dt         x  weekend         y\n",
       "1092 2020-12-28 -0.216630        0  1.582935\n",
       "1093 2020-12-29  1.600085        0  2.573219\n",
       "1094 2020-12-30  0.775335        0  2.240295\n",
       "1095 2020-12-31 -0.536147        0  0.838110\n",
       "1096 2021-01-01 -0.681098        0  0.839873"
      ]
     },
     "execution_count": 9,
     "metadata": {},
     "output_type": "execute_result"
    }
   ],
   "source": [
    "df.tail()"
   ]
  },
  {
   "cell_type": "code",
   "execution_count": 7,
   "metadata": {},
   "outputs": [],
   "source": [
    "X, y = df[['x', 'weekend']].values, df['y'].values\n"
   ]
  },
  {
   "cell_type": "code",
   "execution_count": 8,
   "metadata": {},
   "outputs": [
    {
     "name": "stdout",
     "output_type": "stream",
     "text": [
      "ZIR r²: 0.9710031331616351\n",
      " LR r²: 0.8207276105891473\n"
     ]
    }
   ],
   "source": [
    "zir = ZeroInflatedRegressor(\n",
    "    classifier=LogisticRegression(),\n",
    "    regressor=Ridge()\n",
    ")\n",
    "\n",
    "lr = Ridge(random_state=0)\n",
    "\n",
    "print('ZIR r²:', cross_val_score(zir, X, y).mean())\n",
    "print(' LR r²:', cross_val_score(lr, X, y).mean())"
   ]
  },
  {
   "cell_type": "code",
   "execution_count": null,
   "metadata": {},
   "outputs": [],
   "source": []
  }
 ],
 "metadata": {
  "kernelspec": {
   "display_name": "Python 3",
   "language": "python",
   "name": "python3"
  },
  "language_info": {
   "codemirror_mode": {
    "name": "ipython",
    "version": 3
   },
   "file_extension": ".py",
   "mimetype": "text/x-python",
   "name": "python",
   "nbconvert_exporter": "python",
   "pygments_lexer": "ipython3",
   "version": "3.10.9"
  },
  "orig_nbformat": 4,
  "vscode": {
   "interpreter": {
    "hash": "e3a928b85d63b2ef9b6ccf12e8d329d0cbc7130b7b94533fcc116c9895f7d050"
   }
  }
 },
 "nbformat": 4,
 "nbformat_minor": 2
}
